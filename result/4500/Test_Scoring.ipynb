{
 "cells": [
  {
   "cell_type": "markdown",
   "metadata": {},
   "source": [
    "## 이름 딕셔너리"
   ]
  },
  {
   "cell_type": "code",
   "execution_count": 66,
   "metadata": {},
   "outputs": [],
   "source": [
    "place_name={\"서울\":\"seoul\", \"대구\":\"daegu\", \"대전\":\"gwangju\", \"울산\":\"ulsan\", \"경기\":\"gyeonggi\"\n",
    ", \"충북\":\"chungbuk\", \"전북\":\"jeonbuk\", \"경북\":\"gyeongbuk\", \"제주\":\"jeju\", \"부산\":\"busan\", \"인천\":\"incheon\"\n",
    ", \"대전\":\"daejeon\", \"세종\":\"sejong\", \"강원\":\"gangwon\", \"충남\":\"chungnam\", \"전남\":\"jeonnam\", \"경남\":\"gyeongnam\"}\n",
    "other_name={\"가\":\"ga\", \"나\":\"na\", \"다\":\"da\", \"라\":\"ra\", \"마\":\"ma\", \"바\":\"ba\", \"사\":\"sa\"\n",
    ", \"아\":\"aa\", \"자\":\"ja\", \"차\":\"cha\", \"카\":\"ka\", \"타\":\"ta\", \"파\":\"pa\", \"하\":\"ha\"\n",
    ", \"거\":\"goe\", \"너\":\"noe\", \"더\":\"doe\", \"러\":\"roe\", \"머\":\"moe\", \"버\":\"boe\", \"서\":\"soe\", \"어\":\"aoe\"\n",
    ", \"저\":\"joe\", \"처\":\"choe\", \"커\":\"koe\", \"터\":\"toe\", \"퍼\":\"poe\", \"허\":\"hoe\", \"고\":\"go\"\n",
    ", \"노\":\"no\", \"도\":\"do\", \"로\":\"ro\", \"모\":\"mo\", \"보\":\"bo\", \"소\":\"so\", \"오\":\"oo\", \"조\":\"jo\", \"초\":\"cho\"\n",
    ", \"코\":\"ko\", \"토\":\"to\", \"포\":\"po\", \"호\":\"ho\", \"구\":\"gu\", \"누\":\"nu\", \"두\":\"du\", \"루\":\"ru\", \"무\":\"mu\"\n",
    ", \"부\":\"bu\", \"수\":\"su\", \"우\":\"wu\", \"주\":\"ju\", \"추\":\"chu\", \"쿠\":\"ku\", \"투\":\"tu\"\n",
    ", \"푸\":\"pu\", \"후\":\"hu\", \"배\":\"bae\", \"영\":\"young\", \"-\":\"-\", \"크\":\"ke\", \"외교\":\"oikyo\", \"그\":\"ge\"\n",
    ", \"느\":\"ne\", \"드\":\"de\", \"르\":\"re\", \"므\":\"me\", \"브\":\"be\", \"스\":\"se\", \"으\":\"oe\", \"즈\":\"je\"\n",
    ", \"크\":\"ch\", \"트\":\"te\", \"프\":\"pe\", \"흐\":\"he\", \"육\":\"yuk\", \"해\":\"hae\", \"공\":\"gong\", \"국\":\"guk\", \"합\":\"hap\"}"
   ]
  },
  {
   "cell_type": "markdown",
   "metadata": {},
   "source": [
    "## 데이터 로드"
   ]
  },
  {
   "cell_type": "code",
   "execution_count": 70,
   "metadata": {},
   "outputs": [],
   "source": [
    "import pandas as pd\n",
    "csv_107=pd.read_csv(\"./label_107.csv\",engine='python')\n",
    "csv_107 = csv_107.set_index('idx')\n",
    "csv_107.rename(columns={'Unnamed: 4': 'ground_truth', 'Unnamed: 5': 'isTrue'}, inplace=True)\n",
    "csv_107['ground_truth']=''\n",
    "csv_107['isTrue']='X'"
   ]
  },
  {
   "cell_type": "markdown",
   "metadata": {},
   "source": [
    "## 채점"
   ]
  },
  {
   "cell_type": "code",
   "execution_count": 71,
   "metadata": {},
   "outputs": [],
   "source": [
    "import os\n",
    "path_dir = '../../nfs/nnie_copy/data/nnie_image/rgb_planar/test'\n",
    "correct_cnt=0\n",
    "file_list = os.listdir(path_dir)\n",
    "for file_name in file_list:\n",
    "    file_idx=file_name.split('_')[0]\n",
    "    file_name=(file_name.split('_')[1]).split('.')[0]\n",
    "    for key,value in place_name.items():\n",
    "        file_name=file_name.replace(key,value)\n",
    "    for key,value in other_name.items():\n",
    "        file_name=file_name.replace(key,value)\n",
    "    if int(file_idx) in csv_107.index:\n",
    "        csv_107.loc[int(file_idx),'ground_truth']=file_name\n",
    "        if csv_107.loc[int(file_idx),'ground_truth']==csv_107.loc[int(file_idx),'result']:\n",
    "            csv_107.loc[int(file_idx),'isTrue']=\"O\"\n",
    "            correct_cnt+=1"
   ]
  },
  {
   "cell_type": "markdown",
   "metadata": {},
   "source": [
    "## 결과 저장"
   ]
  },
  {
   "cell_type": "code",
   "execution_count": 72,
   "metadata": {},
   "outputs": [],
   "source": [
    "csv_107.to_csv(\"result_107label.csv\")"
   ]
  },
  {
   "cell_type": "markdown",
   "metadata": {},
   "source": [
    "## 점수 계산"
   ]
  },
  {
   "cell_type": "code",
   "execution_count": 69,
   "metadata": {},
   "outputs": [
    {
     "name": "stdout",
     "output_type": "stream",
     "text": [
      "맞은 갯수 : 3356\n",
      "데이터 갯수 : 4495\n",
      "74.66점\n"
     ]
    }
   ],
   "source": [
    "print(\"맞은 갯수 : \"+format(correct_cnt))\n",
    "print(\"데이터 갯수 : \"+format(len(csv_107)))\n",
    "print(format(100*correct_cnt/len(csv_107),\".2f\")+\"점\")"
   ]
  }
 ],
 "metadata": {
  "kernelspec": {
   "display_name": "Python 3",
   "language": "python",
   "name": "python3"
  },
  "language_info": {
   "codemirror_mode": {
    "name": "ipython",
    "version": 3
   },
   "file_extension": ".py",
   "mimetype": "text/x-python",
   "name": "python",
   "nbconvert_exporter": "python",
   "pygments_lexer": "ipython3",
   "version": "3.8.5"
  }
 },
 "nbformat": 4,
 "nbformat_minor": 4
}
